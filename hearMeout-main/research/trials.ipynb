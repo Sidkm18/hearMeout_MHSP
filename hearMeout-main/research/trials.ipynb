{
 "cells": [
  {
   "cell_type": "code",
   "execution_count": null,
   "id": "360802db",
   "metadata": {},
   "outputs": [],
   "source": [
    "import os\n",
    "os.chdir(\"../\")"
   ]
  },
  {
   "cell_type": "code",
   "execution_count": null,
   "id": "96ec5c58",
   "metadata": {},
   "outputs": [],
   "source": [
    "%pwd"
   ]
  },
  {
   "cell_type": "code",
   "execution_count": null,
   "id": "a37fb356",
   "metadata": {},
   "outputs": [],
   "source": [
    "from langchain.document_loaders import PyPDFLoader , DirectoryLoader\n",
    "from langchain.text_splitter import RecursiveCharacterTextSplitter"
   ]
  },
  {
   "cell_type": "code",
   "execution_count": null,
   "id": "a14b496a",
   "metadata": {},
   "outputs": [],
   "source": [
    "#extracting data \n",
    "def load_pdf_file(data):\n",
    "    loader = DirectoryLoader(data,glob=\"*.pdf\",\n",
    "    loader_cls=PyPDFLoader)\n",
    "\n",
    "    documents=loader.load()\n",
    "    return documents"
   ]
  },
  {
   "cell_type": "code",
   "execution_count": null,
   "id": "bad96cb5",
   "metadata": {},
   "outputs": [],
   "source": [
    "# extracted_data=load_pdf_file(data=\"test_data/\")\n",
    "#extracted data"
   ]
  },
  {
   "cell_type": "code",
   "execution_count": null,
   "id": "dcadbc6f",
   "metadata": {},
   "outputs": [],
   "source": [
    "extracted_data = load_pdf_file(\n",
    "    data=\"C:\\\\Users\\\\Shounak Dutta\\\\Documents\\\\Sih'25 hearMeout\\\\hearMeout\\\\Data\"\n",
    ")\n",
    "# print(extracted_data)\n"
   ]
  },
  {
   "cell_type": "code",
   "execution_count": null,
   "id": "5d769b6b",
   "metadata": {},
   "outputs": [],
   "source": []
  },
  {
   "cell_type": "code",
   "execution_count": null,
   "id": "a7df2d71",
   "metadata": {},
   "outputs": [],
   "source": [
    "print(len(extracted_data))\n"
   ]
  },
  {
   "cell_type": "code",
   "execution_count": null,
   "id": "d6ed762c",
   "metadata": {},
   "outputs": [],
   "source": [
    "#splitting data : chunks \n",
    "def text_split(extracted_data):\n",
    "    text_splitter= RecursiveCharacterTextSplitter(chunk_size=500, chunk_overlap=20)\n",
    "    text_chunks= text_splitter.split_documents(extracted_data)\n",
    "    return text_chunks"
   ]
  },
  {
   "cell_type": "code",
   "execution_count": null,
   "id": "d2372414",
   "metadata": {},
   "outputs": [],
   "source": [
    "text_chunks=text_split(extracted_data)\n",
    "print(f\"Number of chunks\", len(text_chunks))"
   ]
  },
  {
   "cell_type": "code",
   "execution_count": null,
   "id": "934488f4",
   "metadata": {},
   "outputs": [],
   "source": [
    "from langchain.embeddings import HuggingFaceEmbeddings\n"
   ]
  },
  {
   "cell_type": "code",
   "execution_count": null,
   "id": "4c67ea55",
   "metadata": {},
   "outputs": [],
   "source": [
    "# download embeddings from HuggingFace\n",
    "def download_hugging_face_embeddings():\n",
    "    embeddings = HuggingFaceEmbeddings(model_name='sentence-transformers/all-MiniLM-L6-v2')\n",
    "    return embeddings\n",
    "\n"
   ]
  },
  {
   "cell_type": "code",
   "execution_count": null,
   "id": "c87e4051",
   "metadata": {},
   "outputs": [],
   "source": [
    "import sys\n",
    "print(sys.executable)"
   ]
  },
  {
   "cell_type": "code",
   "execution_count": null,
   "id": "9c5a714c",
   "metadata": {},
   "outputs": [],
   "source": [
    "embeddings = download_hugging_face_embeddings()\n"
   ]
  },
  {
   "cell_type": "code",
   "execution_count": null,
   "id": "1d57bd83",
   "metadata": {},
   "outputs": [],
   "source": [
    "query_result= embeddings.embed_query('HELLO world')\n",
    "print(\"length\",  len(query_result))\n",
    "#query_result()"
   ]
  },
  {
   "cell_type": "code",
   "execution_count": null,
   "id": "6999ea3d",
   "metadata": {},
   "outputs": [],
   "source": [
    "from dotenv import load_dotenv\n",
    "load_dotenv(dotenv_path=r\"C:\\\\Users\\\\Shounak Dutta\\\\Documents\\\\Sih'25 hearMeout\\\\hearMeout\\\\.env\")"
   ]
  },
  {
   "cell_type": "code",
   "execution_count": null,
   "id": "a68dc796",
   "metadata": {},
   "outputs": [],
   "source": [
    "PINE_API_KEY=os.environ.get(\"PINECONE_api_key\")\n",
    "GEMINI_API_KEY=os.environ.get(\"Gemini_api_key\")"
   ]
  },
  {
   "cell_type": "code",
   "execution_count": null,
   "id": "76d47247",
   "metadata": {},
   "outputs": [],
   "source": [
    "# from pinecone.grpc import PineconeGRPC as Pinecone\n",
    "# from pinecone import ServerlessSpec\n",
    "# import os\n",
    "\n",
    "\n",
    "\n",
    "\n",
    "# pc= Pinecone(api_key=PINE_API_KEY)\n",
    "# index_name=\"therapybot\"\n",
    "# pc.create_index(\n",
    "#     name=index_name,\n",
    "#     dimension=384,\n",
    "#     metric=\"cosine\",\n",
    "#     spec=ServerlessSpec(\n",
    "#         cloud=\"aws\",\n",
    "#         region=\"us-east-1\"\n",
    "#     )\n",
    "# )"
   ]
  },
  {
   "cell_type": "code",
   "execution_count": null,
   "id": "6c628227",
   "metadata": {},
   "outputs": [],
   "source": [
    "#setting as environment var\n",
    "import os\n",
    "os.environ[\"PINE_API_KEY\"]= PINE_API_KEY\n",
    "os.environ[\"GOOGLE_API_KEY\"]= GEMINI_API_KEY"
   ]
  },
  {
   "cell_type": "code",
   "execution_count": null,
   "id": "5efe27a1",
   "metadata": {},
   "outputs": [],
   "source": [
    "from langchain_pinecone import PineconeVectorStore\n",
    "#embed chunks and upsert the embebded vectors to pinecone db ie index\n",
    "docsearch= PineconeVectorStore.from_documents(\n",
    "    documents=text_chunks,\n",
    "    index_name=index_name,\n",
    "    embedding=embeddings,\n",
    ")"
   ]
  },
  {
   "cell_type": "code",
   "execution_count": null,
   "id": "70c94690",
   "metadata": {},
   "outputs": [],
   "source": [
    "from langchain_pinecone import PineconeVectorStore\n",
    "#embed chunks and upsert the embebded vectors to pinecone db ie index\n",
    "docsearch= PineconeVectorStore.from_existing_index(\n",
    "    index_name=index_name,\n",
    "    embedding=embeddings\n",
    ")"
   ]
  },
  {
   "cell_type": "code",
   "execution_count": null,
   "id": "f6e4e8d1",
   "metadata": {},
   "outputs": [],
   "source": [
    "docsearch"
   ]
  },
  {
   "cell_type": "code",
   "execution_count": null,
   "id": "78c798e8",
   "metadata": {},
   "outputs": [],
   "source": [
    "retriever = docsearch.as_retriever(search_type=\"similarity\",search_kwargs={\"k\":3}) "
   ]
  },
  {
   "cell_type": "code",
   "execution_count": null,
   "id": "24a4bab7",
   "metadata": {},
   "outputs": [],
   "source": [
    "retrieved_docs=retriever.invoke(\"How to prevent suicide?\")"
   ]
  },
  {
   "cell_type": "code",
   "execution_count": null,
   "id": "ffeb162a",
   "metadata": {},
   "outputs": [],
   "source": [
    "retrieved_docs"
   ]
  },
  {
   "cell_type": "code",
   "execution_count": null,
   "id": "e74677cb",
   "metadata": {},
   "outputs": [],
   "source": [
    "#llm model is initialised\n",
    "# from langchain_openai import OpenAI\n",
    "# llm=OpenAI(temperature=0.4, max_tokens=500)\n",
    "\n",
    "from langchain_google_genai import ChatGoogleGenerativeAI\n",
    "\n",
    "llm = ChatGoogleGenerativeAI(\n",
    "    model=\"gemini-2.0-flash\",\n",
    "    temperature=0.4,\n",
    "    max_tokens=200  # or specify a limit if needed\n",
    "    google_api_key=GEMINI_API_KEY  # Explicitly pass the API key\n",
    "\n",
    ")\n"
   ]
  },
  {
   "cell_type": "code",
   "execution_count": null,
   "id": "cf2af96a",
   "metadata": {},
   "outputs": [],
   "source": [
    "from langchain.chains import create_retrieval_chain\n",
    "from langchain.chains.combine_documents import create_stuff_documents_chain\n",
    "from langchain_core.prompts import ChatPromptTemplate\n",
    "\n",
    "system_prompt = (\n",
    "    \"You are a highly experienced and qualified mental health counsellor for high school students. \"\n",
    "    \"Use the retrieved context and the user’s prompt to answer, give advice, and suggest things to ease the problem of the user. \"\n",
    "    \"Use an empathetic and warm tone to not excite any reaction but to support the user. \"\n",
    "    \"Take a deep breath and process all the context, then give an answer which best just advises and suggests rather than straight up solving the problem. \"\n",
    "    \"Ask questions and ask for more context if required. \"\n",
    "    \"You are the single thing supporting and comforting the user in any given situation, so tread lightly so as to not get too personal yet act as a warm counsellor to take care of the mental health of the user. \"\n",
    "    \"If you don’t have straight answers or if the answers are too complex, start by recommending to seek warmth and comfort from adults, teachers, counsellors, or booking an appointment with the student therapist. \"\n",
    "    \"Give answers in simple wording, short and friendly manner. \"\n",
    "    \"Use a suggestive style and avoid making it sound compulsory or like an order. \"\n",
    "    \"Take time to give answers and don’t make up information entirely. Be kind and warm. \"\n",
    "    \"{context}\"\n",
    ")\n",
    "\n",
    "prompt = ChatPromptTemplate.from_messages(\n",
    "    [\n",
    "        (\"system\", system_prompt),\n",
    "        (\"human\", \"{input}\"),\n",
    "    ]\n",
    ")\n"
   ]
  },
  {
   "cell_type": "code",
   "execution_count": null,
   "id": "3196464d",
   "metadata": {},
   "outputs": [],
   "source": [
    "question_answer_chain= create_stuff_documents_chain(llm,prompt)\n",
    "rag_chain=create_retrieval_chain(retriever,question_answer_chain)"
   ]
  },
  {
   "cell_type": "code",
   "execution_count": null,
   "id": "a8fc68d0",
   "metadata": {},
   "outputs": [],
   "source": [
    "response=rag_chain.invoke({\"input\":\"I feel very anxious about my exams next week.\"})\n",
    "print(response[\"answer\"])"
   ]
  },
  {
   "cell_type": "code",
   "execution_count": null,
   "id": "583bc5ce",
   "metadata": {},
   "outputs": [],
   "source": []
  }
 ],
 "metadata": {
  "kernelspec": {
   "display_name": "hearMeoutAPP",
   "language": "python",
   "name": "python3"
  },
  "language_info": {
   "codemirror_mode": {
    "name": "ipython",
    "version": 3
   },
   "file_extension": ".py",
   "mimetype": "text/x-python",
   "name": "python",
   "nbconvert_exporter": "python",
   "pygments_lexer": "ipython3",
   "version": "3.13.5"
  }
 },
 "nbformat": 4,
 "nbformat_minor": 5
}
